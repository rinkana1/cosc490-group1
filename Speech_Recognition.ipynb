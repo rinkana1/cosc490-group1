{
  "nbformat": 4,
  "nbformat_minor": 0,
  "metadata": {
    "colab": {
      "provenance": [],
      "authorship_tag": "ABX9TyOys8NvdpNFWeid3qEGJcnp",
      "include_colab_link": true
    },
    "kernelspec": {
      "name": "python3",
      "display_name": "Python 3"
    },
    "language_info": {
      "name": "python"
    }
  },
  "cells": [
    {
      "cell_type": "markdown",
      "metadata": {
        "id": "view-in-github",
        "colab_type": "text"
      },
      "source": [
        "<a href=\"https://colab.research.google.com/github/rinkana1/cosc490-group1/blob/Speech-Recognition/Speech_Recognition.ipynb\" target=\"_parent\"><img src=\"https://colab.research.google.com/assets/colab-badge.svg\" alt=\"Open In Colab\"/></a>"
      ]
    },
    {
      "cell_type": "code",
      "source": [
        "\n",
        "!pip install pyttsx3 SpeechRecognition\n"
      ],
      "metadata": {
        "colab": {
          "base_uri": "https://localhost:8080/"
        },
        "collapsed": true,
        "id": "ce8IyDFbwKLt",
        "outputId": "d405e247-f7b6-4e7f-fb5a-716a47e4944b"
      },
      "execution_count": 1,
      "outputs": [
        {
          "output_type": "stream",
          "name": "stdout",
          "text": [
            "Collecting pyttsx3\n",
            "  Downloading pyttsx3-2.98-py3-none-any.whl.metadata (3.8 kB)\n",
            "Collecting SpeechRecognition\n",
            "  Downloading speechrecognition-3.14.2-py3-none-any.whl.metadata (30 kB)\n",
            "Requirement already satisfied: typing-extensions in /usr/local/lib/python3.11/dist-packages (from SpeechRecognition) (4.12.2)\n",
            "Downloading pyttsx3-2.98-py3-none-any.whl (34 kB)\n",
            "Downloading speechrecognition-3.14.2-py3-none-any.whl (32.9 MB)\n",
            "\u001b[2K   \u001b[90m━━━━━━━━━━━━━━━━━━━━━━━━━━━━━━━━━━━━━━━━\u001b[0m \u001b[32m32.9/32.9 MB\u001b[0m \u001b[31m23.3 MB/s\u001b[0m eta \u001b[36m0:00:00\u001b[0m\n",
            "\u001b[?25hInstalling collected packages: pyttsx3, SpeechRecognition\n",
            "Successfully installed SpeechRecognition-3.14.2 pyttsx3-2.98\n"
          ]
        }
      ]
    },
    {
      "cell_type": "code",
      "execution_count": 2,
      "metadata": {
        "colab": {
          "base_uri": "https://localhost:8080/",
          "height": 675
        },
        "collapsed": true,
        "id": "QG2rPeuuv7uo",
        "outputId": "d62266da-0fb0-4963-adf2-06ef022a1c6d"
      },
      "outputs": [
        {
          "output_type": "stream",
          "name": "stdout",
          "text": [
            "Requirement already satisfied: SpeechRecognition in /usr/local/lib/python3.11/dist-packages (3.14.2)\n",
            "Collecting gtts\n",
            "  Downloading gTTS-2.5.4-py3-none-any.whl.metadata (4.1 kB)\n",
            "Collecting pydub\n",
            "  Downloading pydub-0.25.1-py2.py3-none-any.whl.metadata (1.4 kB)\n",
            "Requirement already satisfied: typing-extensions in /usr/local/lib/python3.11/dist-packages (from SpeechRecognition) (4.12.2)\n",
            "Requirement already satisfied: requests<3,>=2.27 in /usr/local/lib/python3.11/dist-packages (from gtts) (2.32.3)\n",
            "Requirement already satisfied: click<8.2,>=7.1 in /usr/local/lib/python3.11/dist-packages (from gtts) (8.1.8)\n",
            "Requirement already satisfied: charset-normalizer<4,>=2 in /usr/local/lib/python3.11/dist-packages (from requests<3,>=2.27->gtts) (3.4.1)\n",
            "Requirement already satisfied: idna<4,>=2.5 in /usr/local/lib/python3.11/dist-packages (from requests<3,>=2.27->gtts) (3.10)\n",
            "Requirement already satisfied: urllib3<3,>=1.21.1 in /usr/local/lib/python3.11/dist-packages (from requests<3,>=2.27->gtts) (2.3.0)\n",
            "Requirement already satisfied: certifi>=2017.4.17 in /usr/local/lib/python3.11/dist-packages (from requests<3,>=2.27->gtts) (2025.1.31)\n",
            "Downloading gTTS-2.5.4-py3-none-any.whl (29 kB)\n",
            "Downloading pydub-0.25.1-py2.py3-none-any.whl (32 kB)\n",
            "Installing collected packages: pydub, gtts\n",
            "Successfully installed gtts-2.5.4 pydub-0.25.1\n"
          ]
        },
        {
          "output_type": "display_data",
          "data": {
            "text/plain": [
              "<IPython.lib.display.Audio object>"
            ],
            "text/html": [
              "\n",
              "                <audio  controls=\"controls\" autoplay=\"autoplay\">\n",
              "                    <source src=\"data:audio/mpeg;base64,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\" type=\"audio/mpeg\" />\n",
              "                    Your browser does not support the audio element.\n",
              "                </audio>\n",
              "              "
            ]
          },
          "metadata": {}
        },
        {
          "output_type": "error",
          "ename": "FileNotFoundError",
          "evalue": "[Errno 2] No such file or directory: 'sample_audio.wav'",
          "traceback": [
            "\u001b[0;31m---------------------------------------------------------------------------\u001b[0m",
            "\u001b[0;31mFileNotFoundError\u001b[0m                         Traceback (most recent call last)",
            "\u001b[0;32m<ipython-input-2-c72833eac5ed>\u001b[0m in \u001b[0;36m<cell line: 0>\u001b[0;34m()\u001b[0m\n\u001b[1;32m     40\u001b[0m \u001b[0;34m\u001b[0m\u001b[0m\n\u001b[1;32m     41\u001b[0m \u001b[0mspeak\u001b[0m\u001b[0;34m(\u001b[0m\u001b[0;34m\"Hello Xavier , how can I help you?\"\u001b[0m\u001b[0;34m)\u001b[0m\u001b[0;34m\u001b[0m\u001b[0;34m\u001b[0m\u001b[0m\n\u001b[0;32m---> 42\u001b[0;31m \u001b[0mtakecommand\u001b[0m\u001b[0;34m(\u001b[0m\u001b[0;34m)\u001b[0m\u001b[0;34m\u001b[0m\u001b[0;34m\u001b[0m\u001b[0m\n\u001b[0m\u001b[1;32m     43\u001b[0m \u001b[0;34m\u001b[0m\u001b[0m\n",
            "\u001b[0;32m<ipython-input-2-c72833eac5ed>\u001b[0m in \u001b[0;36mtakecommand\u001b[0;34m()\u001b[0m\n\u001b[1;32m     21\u001b[0m     \u001b[0maudio_file\u001b[0m \u001b[0;34m=\u001b[0m \u001b[0;34m\"sample_audio.wav\"\u001b[0m  \u001b[0;31m# Upload a file manually or record externally\u001b[0m\u001b[0;34m\u001b[0m\u001b[0;34m\u001b[0m\u001b[0m\n\u001b[1;32m     22\u001b[0m \u001b[0;34m\u001b[0m\u001b[0m\n\u001b[0;32m---> 23\u001b[0;31m     \u001b[0;32mwith\u001b[0m \u001b[0msr\u001b[0m\u001b[0;34m.\u001b[0m\u001b[0mAudioFile\u001b[0m\u001b[0;34m(\u001b[0m\u001b[0maudio_file\u001b[0m\u001b[0;34m)\u001b[0m \u001b[0;32mas\u001b[0m \u001b[0msource\u001b[0m\u001b[0;34m:\u001b[0m\u001b[0;34m\u001b[0m\u001b[0;34m\u001b[0m\u001b[0m\n\u001b[0m\u001b[1;32m     24\u001b[0m         \u001b[0mprint\u001b[0m\u001b[0;34m(\u001b[0m\u001b[0;34m\"Processing audio...\"\u001b[0m\u001b[0;34m)\u001b[0m\u001b[0;34m\u001b[0m\u001b[0;34m\u001b[0m\u001b[0m\n\u001b[1;32m     25\u001b[0m         \u001b[0mrecognizer\u001b[0m\u001b[0;34m.\u001b[0m\u001b[0madjust_for_ambient_noise\u001b[0m\u001b[0;34m(\u001b[0m\u001b[0msource\u001b[0m\u001b[0;34m)\u001b[0m\u001b[0;34m\u001b[0m\u001b[0;34m\u001b[0m\u001b[0m\n",
            "\u001b[0;32m/usr/local/lib/python3.11/dist-packages/speech_recognition/__init__.py\u001b[0m in \u001b[0;36m__enter__\u001b[0;34m(self)\u001b[0m\n\u001b[1;32m    231\u001b[0m         \u001b[0;32mtry\u001b[0m\u001b[0;34m:\u001b[0m\u001b[0;34m\u001b[0m\u001b[0;34m\u001b[0m\u001b[0m\n\u001b[1;32m    232\u001b[0m             \u001b[0;31m# attempt to read the file as WAV\u001b[0m\u001b[0;34m\u001b[0m\u001b[0;34m\u001b[0m\u001b[0m\n\u001b[0;32m--> 233\u001b[0;31m             \u001b[0mself\u001b[0m\u001b[0;34m.\u001b[0m\u001b[0maudio_reader\u001b[0m \u001b[0;34m=\u001b[0m \u001b[0mwave\u001b[0m\u001b[0;34m.\u001b[0m\u001b[0mopen\u001b[0m\u001b[0;34m(\u001b[0m\u001b[0mself\u001b[0m\u001b[0;34m.\u001b[0m\u001b[0mfilename_or_fileobject\u001b[0m\u001b[0;34m,\u001b[0m \u001b[0;34m\"rb\"\u001b[0m\u001b[0;34m)\u001b[0m\u001b[0;34m\u001b[0m\u001b[0;34m\u001b[0m\u001b[0m\n\u001b[0m\u001b[1;32m    234\u001b[0m             \u001b[0mself\u001b[0m\u001b[0;34m.\u001b[0m\u001b[0mlittle_endian\u001b[0m \u001b[0;34m=\u001b[0m \u001b[0;32mTrue\u001b[0m  \u001b[0;31m# RIFF WAV is a little-endian format (most ``audioop`` operations assume that the frames are stored in little-endian form)\u001b[0m\u001b[0;34m\u001b[0m\u001b[0;34m\u001b[0m\u001b[0m\n\u001b[1;32m    235\u001b[0m         \u001b[0;32mexcept\u001b[0m \u001b[0;34m(\u001b[0m\u001b[0mwave\u001b[0m\u001b[0;34m.\u001b[0m\u001b[0mError\u001b[0m\u001b[0;34m,\u001b[0m \u001b[0mEOFError\u001b[0m\u001b[0;34m)\u001b[0m\u001b[0;34m:\u001b[0m\u001b[0;34m\u001b[0m\u001b[0;34m\u001b[0m\u001b[0m\n",
            "\u001b[0;32m/usr/lib/python3.11/wave.py\u001b[0m in \u001b[0;36mopen\u001b[0;34m(f, mode)\u001b[0m\n\u001b[1;32m    629\u001b[0m             \u001b[0mmode\u001b[0m \u001b[0;34m=\u001b[0m \u001b[0;34m'rb'\u001b[0m\u001b[0;34m\u001b[0m\u001b[0;34m\u001b[0m\u001b[0m\n\u001b[1;32m    630\u001b[0m     \u001b[0;32mif\u001b[0m \u001b[0mmode\u001b[0m \u001b[0;32min\u001b[0m \u001b[0;34m(\u001b[0m\u001b[0;34m'r'\u001b[0m\u001b[0;34m,\u001b[0m \u001b[0;34m'rb'\u001b[0m\u001b[0;34m)\u001b[0m\u001b[0;34m:\u001b[0m\u001b[0;34m\u001b[0m\u001b[0;34m\u001b[0m\u001b[0m\n\u001b[0;32m--> 631\u001b[0;31m         \u001b[0;32mreturn\u001b[0m \u001b[0mWave_read\u001b[0m\u001b[0;34m(\u001b[0m\u001b[0mf\u001b[0m\u001b[0;34m)\u001b[0m\u001b[0;34m\u001b[0m\u001b[0;34m\u001b[0m\u001b[0m\n\u001b[0m\u001b[1;32m    632\u001b[0m     \u001b[0;32melif\u001b[0m \u001b[0mmode\u001b[0m \u001b[0;32min\u001b[0m \u001b[0;34m(\u001b[0m\u001b[0;34m'w'\u001b[0m\u001b[0;34m,\u001b[0m \u001b[0;34m'wb'\u001b[0m\u001b[0;34m)\u001b[0m\u001b[0;34m:\u001b[0m\u001b[0;34m\u001b[0m\u001b[0;34m\u001b[0m\u001b[0m\n\u001b[1;32m    633\u001b[0m         \u001b[0;32mreturn\u001b[0m \u001b[0mWave_write\u001b[0m\u001b[0;34m(\u001b[0m\u001b[0mf\u001b[0m\u001b[0;34m)\u001b[0m\u001b[0;34m\u001b[0m\u001b[0;34m\u001b[0m\u001b[0m\n",
            "\u001b[0;32m/usr/lib/python3.11/wave.py\u001b[0m in \u001b[0;36m__init__\u001b[0;34m(self, f)\u001b[0m\n\u001b[1;32m    277\u001b[0m         \u001b[0mself\u001b[0m\u001b[0;34m.\u001b[0m\u001b[0m_i_opened_the_file\u001b[0m \u001b[0;34m=\u001b[0m \u001b[0;32mNone\u001b[0m\u001b[0;34m\u001b[0m\u001b[0;34m\u001b[0m\u001b[0m\n\u001b[1;32m    278\u001b[0m         \u001b[0;32mif\u001b[0m \u001b[0misinstance\u001b[0m\u001b[0;34m(\u001b[0m\u001b[0mf\u001b[0m\u001b[0;34m,\u001b[0m \u001b[0mstr\u001b[0m\u001b[0;34m)\u001b[0m\u001b[0;34m:\u001b[0m\u001b[0;34m\u001b[0m\u001b[0;34m\u001b[0m\u001b[0m\n\u001b[0;32m--> 279\u001b[0;31m             \u001b[0mf\u001b[0m \u001b[0;34m=\u001b[0m \u001b[0mbuiltins\u001b[0m\u001b[0;34m.\u001b[0m\u001b[0mopen\u001b[0m\u001b[0;34m(\u001b[0m\u001b[0mf\u001b[0m\u001b[0;34m,\u001b[0m \u001b[0;34m'rb'\u001b[0m\u001b[0;34m)\u001b[0m\u001b[0;34m\u001b[0m\u001b[0;34m\u001b[0m\u001b[0m\n\u001b[0m\u001b[1;32m    280\u001b[0m             \u001b[0mself\u001b[0m\u001b[0;34m.\u001b[0m\u001b[0m_i_opened_the_file\u001b[0m \u001b[0;34m=\u001b[0m \u001b[0mf\u001b[0m\u001b[0;34m\u001b[0m\u001b[0;34m\u001b[0m\u001b[0m\n\u001b[1;32m    281\u001b[0m         \u001b[0;31m# else, assume it is an open file object already\u001b[0m\u001b[0;34m\u001b[0m\u001b[0;34m\u001b[0m\u001b[0m\n",
            "\u001b[0;31mFileNotFoundError\u001b[0m: [Errno 2] No such file or directory: 'sample_audio.wav'"
          ]
        }
      ],
      "source": [
        "!pip install SpeechRecognition gtts pydub\n",
        "\n",
        "import speech_recognition as sr\n",
        "from datetime import datetime\n",
        "from gtts import gTTS\n",
        "import IPython.display as display\n",
        "\n",
        "now = datetime.now()\n",
        "current_time = now.strftime(\"%H:%M:%S\")\n",
        "\n",
        "def speak(text):\n",
        "    \"\"\"Convert text to speech and play it in Colab.\"\"\"\n",
        "    tts = gTTS(text=text, lang=\"en\")\n",
        "    tts.save(\"output.mp3\")\n",
        "    display.display(display.Audio(\"output.mp3\", autoplay=True))\n",
        "\n",
        "def takecommand():\n",
        "    recognizer = sr.Recognizer()\n",
        "\n",
        "    # Use a pre-recorded audio file since real-time recording doesn't work in Colab\n",
        "    audio_file = \"sample_audio.wav\"  # Upload a file manually or record externally\n",
        "\n",
        "    with sr.AudioFile(audio_file) as source:\n",
        "        print(\"Processing audio...\")\n",
        "        recognizer.adjust_for_ambient_noise(source)\n",
        "        audio = recognizer.record(source)\n",
        "\n",
        "    try:\n",
        "        print(\"Recognizing...\")\n",
        "        query = recognizer.recognize_google(audio, language=\"en-in\")\n",
        "        print(\"You said:\", query)\n",
        "\n",
        "        if 'current time please' in query.lower():\n",
        "            speak(f\"The current time is {current_time}\")\n",
        "\n",
        "        return query\n",
        "    except Exception as e:\n",
        "        print(f\"Error: {e}\")\n",
        "        return None\n",
        "\n",
        "speak(\"Hello Group 1 , how can I help you?\")\n",
        "takecommand()\n",
        "\n"
      ]
    },
    {
      "cell_type": "code",
      "source": [
        "!pip install gtts pydub ffmpeg\n",
        "\n",
        "from gtts import gTTS\n",
        "from pydub import AudioSegment\n",
        "\n",
        "# Generate speech\n",
        "text = \"This is a test audio file for speech recognition.\"\n",
        "tts = gTTS(text=text, lang=\"en\")\n",
        "tts.save(\"sample_audio.mp3\")\n",
        "\n",
        "# Convert MP3 to WAV\n",
        "audio = AudioSegment.from_mp3(\"sample_audio.mp3\")\n",
        "audio.export(\"sample_audio.wav\", format=\"wav\")\n",
        "\n",
        "print(\"sample_audio.wav file created successfully.\")\n",
        "\n",
        "from google.colab import files\n",
        "files.download(\"sample_audio.wav\")\n",
        "\n"
      ],
      "metadata": {
        "colab": {
          "base_uri": "https://localhost:8080/",
          "height": 191
        },
        "id": "N8nYMllNyPBr",
        "outputId": "2a69e80d-1476-4d0b-f7b0-767af7b9af65"
      },
      "execution_count": 4,
      "outputs": [
        {
          "output_type": "stream",
          "name": "stdout",
          "text": [
            "Requirement already satisfied: gtts in /usr/local/lib/python3.11/dist-packages (2.5.4)\n",
            "Requirement already satisfied: pydub in /usr/local/lib/python3.11/dist-packages (0.25.1)\n",
            "Requirement already satisfied: ffmpeg in /usr/local/lib/python3.11/dist-packages (1.4)\n",
            "Requirement already satisfied: requests<3,>=2.27 in /usr/local/lib/python3.11/dist-packages (from gtts) (2.32.3)\n",
            "Requirement already satisfied: click<8.2,>=7.1 in /usr/local/lib/python3.11/dist-packages (from gtts) (8.1.8)\n",
            "Requirement already satisfied: charset-normalizer<4,>=2 in /usr/local/lib/python3.11/dist-packages (from requests<3,>=2.27->gtts) (3.4.1)\n",
            "Requirement already satisfied: idna<4,>=2.5 in /usr/local/lib/python3.11/dist-packages (from requests<3,>=2.27->gtts) (3.10)\n",
            "Requirement already satisfied: urllib3<3,>=1.21.1 in /usr/local/lib/python3.11/dist-packages (from requests<3,>=2.27->gtts) (2.3.0)\n",
            "Requirement already satisfied: certifi>=2017.4.17 in /usr/local/lib/python3.11/dist-packages (from requests<3,>=2.27->gtts) (2025.1.31)\n",
            "sample_audio.wav file created successfully.\n"
          ]
        },
        {
          "output_type": "display_data",
          "data": {
            "text/plain": [
              "<IPython.core.display.Javascript object>"
            ],
            "application/javascript": [
              "\n",
              "    async function download(id, filename, size) {\n",
              "      if (!google.colab.kernel.accessAllowed) {\n",
              "        return;\n",
              "      }\n",
              "      const div = document.createElement('div');\n",
              "      const label = document.createElement('label');\n",
              "      label.textContent = `Downloading \"${filename}\": `;\n",
              "      div.appendChild(label);\n",
              "      const progress = document.createElement('progress');\n",
              "      progress.max = size;\n",
              "      div.appendChild(progress);\n",
              "      document.body.appendChild(div);\n",
              "\n",
              "      const buffers = [];\n",
              "      let downloaded = 0;\n",
              "\n",
              "      const channel = await google.colab.kernel.comms.open(id);\n",
              "      // Send a message to notify the kernel that we're ready.\n",
              "      channel.send({})\n",
              "\n",
              "      for await (const message of channel.messages) {\n",
              "        // Send a message to notify the kernel that we're ready.\n",
              "        channel.send({})\n",
              "        if (message.buffers) {\n",
              "          for (const buffer of message.buffers) {\n",
              "            buffers.push(buffer);\n",
              "            downloaded += buffer.byteLength;\n",
              "            progress.value = downloaded;\n",
              "          }\n",
              "        }\n",
              "      }\n",
              "      const blob = new Blob(buffers, {type: 'application/binary'});\n",
              "      const a = document.createElement('a');\n",
              "      a.href = window.URL.createObjectURL(blob);\n",
              "      a.download = filename;\n",
              "      div.appendChild(a);\n",
              "      a.click();\n",
              "      div.remove();\n",
              "    }\n",
              "  "
            ]
          },
          "metadata": {}
        },
        {
          "output_type": "display_data",
          "data": {
            "text/plain": [
              "<IPython.core.display.Javascript object>"
            ],
            "application/javascript": [
              "download(\"download_a4784e3b-5de2-491a-9d2b-88e947324194\", \"sample_audio.wav\", 180908)"
            ]
          },
          "metadata": {}
        }
      ]
    }
  ]
}